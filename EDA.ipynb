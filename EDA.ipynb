{
 "cells": [
  {
   "cell_type": "code",
   "execution_count": null,
   "metadata": {},
   "outputs": [],
   "source": [
    "# !pip install duckdb pandarallel ipywidgets"
   ]
  },
  {
   "cell_type": "code",
   "execution_count": null,
   "metadata": {},
   "outputs": [],
   "source": [
    "import duckdb\n",
    "\n",
    "excape_path = './data/Full-ExCAPE.tsv'\n",
    "\n",
    "con = duckdb.connect(database=':memory:', read_only=False)\n",
    "con.execute(f'CREATE TABLE excape AS SELECT * FROM read_csv_auto(\\'{excape_path}\\')')\n",
    "\n",
    "con.execute('SELECT * FROM excape LIMIT 10').fetchdf()"
   ]
  },
  {
   "cell_type": "code",
   "execution_count": null,
   "metadata": {},
   "outputs": [],
   "source": [
    "print(f'Number of rows: {con.execute(\"SELECT COUNT(*) FROM excape\").fetchdf().values[0][0]:,}')\n",
    "\n",
    "unique_genes = con.execute('SELECT DISTINCT Gene_Symbol FROM excape').fetchdf()\n",
    "\n",
    "print(f'Number of unique genes: {unique_genes.shape[0]:,}')\n",
    "unique_genes.sample(5)"
   ]
  },
  {
   "cell_type": "code",
   "execution_count": null,
   "metadata": {},
   "outputs": [],
   "source": [
    "# Save pXC50 activity dataset\n",
    "from smiles_utils import clean_smile\n",
    "import pandas as pd\n",
    "from pandarallel import pandarallel\n",
    "\n",
    "pandarallel.initialize(progress_bar=True, nb_workers=6)\n",
    "\n",
    "\n",
    "idx = 0\n",
    "min_assays_threshold = 500\n",
    "pXC50_activity_dataset = pd.DataFrame(columns=[\"SMILES\", \"pXC50\", \"Gene\", \"Gene_idx\"])\n",
    "\n",
    "for gene in unique_genes[\"Gene_Symbol\"]:\n",
    "    gene_rows = con.execute(f'SELECT * FROM excape WHERE Gene_Symbol = \\'{gene}\\'').fetchdf()\n",
    "\n",
    "    # Clean and remove duplicates\n",
    "    gene_rows = gene_rows.dropna(subset=[\"SMILES\"]).drop_duplicates(subset=[\"SMILES\"])\n",
    "    assay_pXC50 = gene_rows[[\"SMILES\", \"pXC50\"]].copy()\n",
    "    assay_pXC50[\"pXC50\"] = assay_pXC50[\"pXC50\"].astype(float)\n",
    "    assay_pXC50 = assay_pXC50.dropna(subset=[\"pXC50\"])\n",
    "\n",
    "    # First skip: not enough assays to clean the SMILES\n",
    "    if len(assay_pXC50) < min_assays_threshold:\n",
    "        continue\n",
    "\n",
    "    assay_pXC50[\"SMILES\"] = assay_pXC50[\"SMILES\"].parallel_apply(clean_smile)\n",
    "    assay_pXC50 = assay_pXC50.dropna(subset=[\"SMILES\"]).drop_duplicates(subset=[\"SMILES\"])\n",
    "    assay_pXC50[\"pXC50\"] = assay_pXC50[\"pXC50\"].clip(0, 10)\n",
    "    \n",
    "    # Second skip: cleaning the SMILES filtered out invalid strings\n",
    "    if len(assay_pXC50) < min_assays_threshold:\n",
    "        continue\n",
    "\n",
    "    assay_pXC50[\"Gene\"] = gene\n",
    "    assay_pXC50[\"Gene_idx\"] = idx\n",
    "    pXC50_activity_dataset = pd.concat([pXC50_activity_dataset, assay_pXC50], ignore_index=True)\n",
    "    idx += 1\n",
    "\n",
    "pXC50_activity_dataset.to_csv(f\"./data/pXC50_activity_dataset_over_{min_assays_threshold}.csv\", index=False)\n",
    "print(f\"Number of genes with at least {min_assays_threshold} assays: {idx:,}\")\n",
    "print(f\"Number of assays: {len(pXC50_activity_dataset):,}\")\n",
    "pXC50_activity_dataset.sample(5)"
   ]
  }
 ],
 "metadata": {
  "kernelspec": {
   "display_name": "chemprop",
   "language": "python",
   "name": "python3"
  },
  "language_info": {
   "codemirror_mode": {
    "name": "ipython",
    "version": 3
   },
   "file_extension": ".py",
   "mimetype": "text/x-python",
   "name": "python",
   "nbconvert_exporter": "python",
   "pygments_lexer": "ipython3",
   "version": "3.12.8"
  }
 },
 "nbformat": 4,
 "nbformat_minor": 2
}
